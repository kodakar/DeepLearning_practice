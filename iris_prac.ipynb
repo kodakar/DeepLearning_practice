{
  "nbformat": 4,
  "nbformat_minor": 0,
  "metadata": {
    "colab": {
      "provenance": [],
      "gpuType": "T4",
      "authorship_tag": "ABX9TyOP5JxWip4RWRqGO/SyYToG",
      "include_colab_link": true
    },
    "kernelspec": {
      "name": "python3",
      "display_name": "Python 3"
    },
    "language_info": {
      "name": "python"
    },
    "accelerator": "GPU",
    "gpuClass": "standard"
  },
  "cells": [
    {
      "cell_type": "markdown",
      "metadata": {
        "id": "view-in-github",
        "colab_type": "text"
      },
      "source": [
        "<a href=\"https://colab.research.google.com/github/kodakar/DeepLearning_practice/blob/main/iris_prac.ipynb\" target=\"_parent\"><img src=\"https://colab.research.google.com/assets/colab-badge.svg\" alt=\"Open In Colab\"/></a>"
      ]
    },
    {
      "cell_type": "code",
      "execution_count": 1,
      "metadata": {
        "id": "GZH9uhgQ-HDK"
      },
      "outputs": [],
      "source": [
        "import numpy as np\n",
        "from sklearn import datasets"
      ]
    },
    {
      "cell_type": "code",
      "source": [
        "iris = datasets.load_iris()"
      ],
      "metadata": {
        "id": "354vTdWm-LtU"
      },
      "execution_count": 2,
      "outputs": []
    },
    {
      "cell_type": "code",
      "source": [
        "from sklearn import preprocessing\n",
        "from keras.utils import np_utils\n",
        "\n",
        "scaler = preprocessing.StandardScaler()  # 標準化のためのスケーラー\n",
        "scaler.fit(iris.data)  # パラメータの計算\n",
        "X = scaler.transform(iris.data)  # データの変換\n",
        "\n",
        "y = np_utils.to_categorical(iris.target)  # ラベルをone-hot表現に変換"
      ],
      "metadata": {
        "id": "hv3RV8Gf-Pcz"
      },
      "execution_count": 4,
      "outputs": []
    },
    {
      "cell_type": "code",
      "source": [
        "from sklearn.model_selection import train_test_split\n",
        "\n",
        "X_train, X_test, y_train, y_test = train_test_split(X, y, train_size=0.75)"
      ],
      "metadata": {
        "id": "pr24yy0U-YiG"
      },
      "execution_count": 10,
      "outputs": []
    },
    {
      "cell_type": "code",
      "source": [
        "from keras.models import Sequential\n",
        "from keras.layers import Dense, Activation\n",
        "\n",
        "model = Sequential()\n",
        "\n",
        "model.add(Dense(128, input_dim=4))\n",
        "model.add(Activation(\"relu\"))\n",
        "model.add(Dense(128, input_dim=4))\n",
        "model.add(Activation(\"relu\"))\n",
        "model.add(Dense(128, input_dim=4))\n",
        "model.add(Activation(\"relu\"))\n",
        "model.add(Dense(128, input_dim=4))\n",
        "model.add(Activation(\"relu\"))\n",
        "model.add(Dense(3))\n",
        "model.add(Activation(\"softmax\"))\n",
        "\n",
        "model.compile(optimizer='sgd',loss='categorical_crossentropy',metrics=['accuracy'])\n",
        "print(model.summary())"
      ],
      "metadata": {
        "colab": {
          "base_uri": "https://localhost:8080/"
        },
        "id": "2aQzhSbA-nMV",
        "outputId": "f83a7d7b-eee3-441c-91d4-7ecb9a3f5b1d"
      },
      "execution_count": 19,
      "outputs": [
        {
          "output_type": "stream",
          "name": "stdout",
          "text": [
            "Model: \"sequential_6\"\n",
            "_________________________________________________________________\n",
            " Layer (type)                Output Shape              Param #   \n",
            "=================================================================\n",
            " dense_28 (Dense)            (None, 128)               640       \n",
            "                                                                 \n",
            " activation_26 (Activation)  (None, 128)               0         \n",
            "                                                                 \n",
            " dense_29 (Dense)            (None, 128)               16512     \n",
            "                                                                 \n",
            " activation_27 (Activation)  (None, 128)               0         \n",
            "                                                                 \n",
            " dense_30 (Dense)            (None, 128)               16512     \n",
            "                                                                 \n",
            " activation_28 (Activation)  (None, 128)               0         \n",
            "                                                                 \n",
            " dense_31 (Dense)            (None, 128)               16512     \n",
            "                                                                 \n",
            " activation_29 (Activation)  (None, 128)               0         \n",
            "                                                                 \n",
            " dense_32 (Dense)            (None, 3)                 387       \n",
            "                                                                 \n",
            " activation_30 (Activation)  (None, 3)                 0         \n",
            "                                                                 \n",
            "=================================================================\n",
            "Total params: 50,563\n",
            "Trainable params: 50,563\n",
            "Non-trainable params: 0\n",
            "_________________________________________________________________\n",
            "None\n"
          ]
        }
      ]
    },
    {
      "cell_type": "code",
      "source": [
        "history = model.fit(X_train, y_train, epochs=100, batch_size=8)"
      ],
      "metadata": {
        "colab": {
          "base_uri": "https://localhost:8080/"
        },
        "id": "WkfwpRqj_AXq",
        "outputId": "36198883-b258-4167-ba9d-70170f6f38a2"
      },
      "execution_count": 22,
      "outputs": [
        {
          "output_type": "stream",
          "name": "stdout",
          "text": [
            "Epoch 1/100\n",
            "14/14 [==============================] - 0s 6ms/step - loss: 0.0632 - accuracy: 0.9732\n",
            "Epoch 2/100\n",
            "14/14 [==============================] - 0s 5ms/step - loss: 0.0609 - accuracy: 0.9821\n",
            "Epoch 3/100\n",
            "14/14 [==============================] - 0s 5ms/step - loss: 0.0619 - accuracy: 0.9732\n",
            "Epoch 4/100\n",
            "14/14 [==============================] - 0s 5ms/step - loss: 0.0598 - accuracy: 0.9821\n",
            "Epoch 5/100\n",
            "14/14 [==============================] - 0s 5ms/step - loss: 0.0594 - accuracy: 0.9643\n",
            "Epoch 6/100\n",
            "14/14 [==============================] - 0s 5ms/step - loss: 0.0587 - accuracy: 0.9732\n",
            "Epoch 7/100\n",
            "14/14 [==============================] - 0s 7ms/step - loss: 0.0581 - accuracy: 0.9643\n",
            "Epoch 8/100\n",
            "14/14 [==============================] - 0s 5ms/step - loss: 0.0586 - accuracy: 0.9643\n",
            "Epoch 9/100\n",
            "14/14 [==============================] - 0s 3ms/step - loss: 0.0570 - accuracy: 0.9732\n",
            "Epoch 10/100\n",
            "14/14 [==============================] - 0s 4ms/step - loss: 0.0568 - accuracy: 0.9643\n",
            "Epoch 11/100\n",
            "14/14 [==============================] - 0s 3ms/step - loss: 0.0557 - accuracy: 0.9821\n",
            "Epoch 12/100\n",
            "14/14 [==============================] - 0s 3ms/step - loss: 0.0546 - accuracy: 0.9732\n",
            "Epoch 13/100\n",
            "14/14 [==============================] - 0s 3ms/step - loss: 0.0545 - accuracy: 0.9732\n",
            "Epoch 14/100\n",
            "14/14 [==============================] - 0s 3ms/step - loss: 0.0551 - accuracy: 0.9732\n",
            "Epoch 15/100\n",
            "14/14 [==============================] - 0s 3ms/step - loss: 0.0542 - accuracy: 0.9732\n",
            "Epoch 16/100\n",
            "14/14 [==============================] - 0s 3ms/step - loss: 0.0516 - accuracy: 0.9821\n",
            "Epoch 17/100\n",
            "14/14 [==============================] - 0s 3ms/step - loss: 0.0500 - accuracy: 0.9732\n",
            "Epoch 18/100\n",
            "14/14 [==============================] - 0s 3ms/step - loss: 0.0502 - accuracy: 0.9821\n",
            "Epoch 19/100\n",
            "14/14 [==============================] - 0s 3ms/step - loss: 0.0502 - accuracy: 0.9732\n",
            "Epoch 20/100\n",
            "14/14 [==============================] - 0s 3ms/step - loss: 0.0492 - accuracy: 0.9732\n",
            "Epoch 21/100\n",
            "14/14 [==============================] - 0s 4ms/step - loss: 0.0490 - accuracy: 0.9821\n",
            "Epoch 22/100\n",
            "14/14 [==============================] - 0s 3ms/step - loss: 0.0490 - accuracy: 0.9821\n",
            "Epoch 23/100\n",
            "14/14 [==============================] - 0s 3ms/step - loss: 0.0476 - accuracy: 0.9821\n",
            "Epoch 24/100\n",
            "14/14 [==============================] - 0s 3ms/step - loss: 0.0476 - accuracy: 0.9732\n",
            "Epoch 25/100\n",
            "14/14 [==============================] - 0s 4ms/step - loss: 0.0464 - accuracy: 0.9821\n",
            "Epoch 26/100\n",
            "14/14 [==============================] - 0s 3ms/step - loss: 0.0469 - accuracy: 0.9821\n",
            "Epoch 27/100\n",
            "14/14 [==============================] - 0s 3ms/step - loss: 0.0468 - accuracy: 0.9732\n",
            "Epoch 28/100\n",
            "14/14 [==============================] - 0s 4ms/step - loss: 0.0454 - accuracy: 0.9821\n",
            "Epoch 29/100\n",
            "14/14 [==============================] - 0s 3ms/step - loss: 0.0454 - accuracy: 0.9911\n",
            "Epoch 30/100\n",
            "14/14 [==============================] - 0s 3ms/step - loss: 0.0441 - accuracy: 0.9821\n",
            "Epoch 31/100\n",
            "14/14 [==============================] - 0s 3ms/step - loss: 0.0445 - accuracy: 0.9821\n",
            "Epoch 32/100\n",
            "14/14 [==============================] - 0s 4ms/step - loss: 0.0426 - accuracy: 0.9821\n",
            "Epoch 33/100\n",
            "14/14 [==============================] - 0s 3ms/step - loss: 0.0419 - accuracy: 0.9821\n",
            "Epoch 34/100\n",
            "14/14 [==============================] - 0s 3ms/step - loss: 0.0437 - accuracy: 0.9821\n",
            "Epoch 35/100\n",
            "14/14 [==============================] - 0s 3ms/step - loss: 0.0414 - accuracy: 0.9911\n",
            "Epoch 36/100\n",
            "14/14 [==============================] - 0s 3ms/step - loss: 0.0419 - accuracy: 0.9821\n",
            "Epoch 37/100\n",
            "14/14 [==============================] - 0s 3ms/step - loss: 0.0404 - accuracy: 0.9821\n",
            "Epoch 38/100\n",
            "14/14 [==============================] - 0s 3ms/step - loss: 0.0419 - accuracy: 0.9821\n",
            "Epoch 39/100\n",
            "14/14 [==============================] - 0s 3ms/step - loss: 0.0420 - accuracy: 0.9821\n",
            "Epoch 40/100\n",
            "14/14 [==============================] - 0s 3ms/step - loss: 0.0413 - accuracy: 0.9911\n",
            "Epoch 41/100\n",
            "14/14 [==============================] - 0s 4ms/step - loss: 0.0413 - accuracy: 0.9821\n",
            "Epoch 42/100\n",
            "14/14 [==============================] - 0s 3ms/step - loss: 0.0392 - accuracy: 0.9911\n",
            "Epoch 43/100\n",
            "14/14 [==============================] - 0s 3ms/step - loss: 0.0378 - accuracy: 0.9911\n",
            "Epoch 44/100\n",
            "14/14 [==============================] - 0s 3ms/step - loss: 0.0392 - accuracy: 0.9911\n",
            "Epoch 45/100\n",
            "14/14 [==============================] - 0s 3ms/step - loss: 0.0413 - accuracy: 0.9732\n",
            "Epoch 46/100\n",
            "14/14 [==============================] - 0s 3ms/step - loss: 0.0402 - accuracy: 0.9732\n",
            "Epoch 47/100\n",
            "14/14 [==============================] - 0s 4ms/step - loss: 0.0382 - accuracy: 0.9821\n",
            "Epoch 48/100\n",
            "14/14 [==============================] - 0s 4ms/step - loss: 0.0376 - accuracy: 0.9911\n",
            "Epoch 49/100\n",
            "14/14 [==============================] - 0s 3ms/step - loss: 0.0379 - accuracy: 0.9821\n",
            "Epoch 50/100\n",
            "14/14 [==============================] - 0s 3ms/step - loss: 0.0370 - accuracy: 0.9821\n",
            "Epoch 51/100\n",
            "14/14 [==============================] - 0s 3ms/step - loss: 0.0362 - accuracy: 0.9911\n",
            "Epoch 52/100\n",
            "14/14 [==============================] - 0s 3ms/step - loss: 0.0370 - accuracy: 0.9911\n",
            "Epoch 53/100\n",
            "14/14 [==============================] - 0s 3ms/step - loss: 0.0362 - accuracy: 0.9911\n",
            "Epoch 54/100\n",
            "14/14 [==============================] - 0s 5ms/step - loss: 0.0357 - accuracy: 0.9821\n",
            "Epoch 55/100\n",
            "14/14 [==============================] - 0s 5ms/step - loss: 0.0355 - accuracy: 0.9911\n",
            "Epoch 56/100\n",
            "14/14 [==============================] - 0s 5ms/step - loss: 0.0350 - accuracy: 0.9911\n",
            "Epoch 57/100\n",
            "14/14 [==============================] - 0s 5ms/step - loss: 0.0352 - accuracy: 0.9911\n",
            "Epoch 58/100\n",
            "14/14 [==============================] - 0s 5ms/step - loss: 0.0340 - accuracy: 0.9911\n",
            "Epoch 59/100\n",
            "14/14 [==============================] - 0s 5ms/step - loss: 0.0334 - accuracy: 0.9911\n",
            "Epoch 60/100\n",
            "14/14 [==============================] - 0s 6ms/step - loss: 0.0362 - accuracy: 0.9911\n",
            "Epoch 61/100\n",
            "14/14 [==============================] - 0s 5ms/step - loss: 0.0362 - accuracy: 0.9821\n",
            "Epoch 62/100\n",
            "14/14 [==============================] - 0s 6ms/step - loss: 0.0335 - accuracy: 1.0000\n",
            "Epoch 63/100\n",
            "14/14 [==============================] - 0s 5ms/step - loss: 0.0342 - accuracy: 0.9821\n",
            "Epoch 64/100\n",
            "14/14 [==============================] - 0s 5ms/step - loss: 0.0305 - accuracy: 0.9911\n",
            "Epoch 65/100\n",
            "14/14 [==============================] - 0s 5ms/step - loss: 0.0324 - accuracy: 0.9911\n",
            "Epoch 66/100\n",
            "14/14 [==============================] - 0s 4ms/step - loss: 0.0313 - accuracy: 0.9911\n",
            "Epoch 67/100\n",
            "14/14 [==============================] - 0s 5ms/step - loss: 0.0341 - accuracy: 0.9911\n",
            "Epoch 68/100\n",
            "14/14 [==============================] - 0s 4ms/step - loss: 0.0323 - accuracy: 0.9911\n",
            "Epoch 69/100\n",
            "14/14 [==============================] - 0s 5ms/step - loss: 0.0306 - accuracy: 0.9911\n",
            "Epoch 70/100\n",
            "14/14 [==============================] - 0s 5ms/step - loss: 0.0321 - accuracy: 1.0000\n",
            "Epoch 71/100\n",
            "14/14 [==============================] - 0s 5ms/step - loss: 0.0313 - accuracy: 0.9911\n",
            "Epoch 72/100\n",
            "14/14 [==============================] - 0s 5ms/step - loss: 0.0303 - accuracy: 0.9911\n",
            "Epoch 73/100\n",
            "14/14 [==============================] - 0s 6ms/step - loss: 0.0322 - accuracy: 0.9911\n",
            "Epoch 74/100\n",
            "14/14 [==============================] - 0s 5ms/step - loss: 0.0305 - accuracy: 1.0000\n",
            "Epoch 75/100\n",
            "14/14 [==============================] - 0s 6ms/step - loss: 0.0280 - accuracy: 1.0000\n",
            "Epoch 76/100\n",
            "14/14 [==============================] - 0s 5ms/step - loss: 0.0283 - accuracy: 1.0000\n",
            "Epoch 77/100\n",
            "14/14 [==============================] - 0s 6ms/step - loss: 0.0298 - accuracy: 0.9821\n",
            "Epoch 78/100\n",
            "14/14 [==============================] - 0s 5ms/step - loss: 0.0282 - accuracy: 1.0000\n",
            "Epoch 79/100\n",
            "14/14 [==============================] - 0s 5ms/step - loss: 0.0291 - accuracy: 1.0000\n",
            "Epoch 80/100\n",
            "14/14 [==============================] - 0s 4ms/step - loss: 0.0286 - accuracy: 1.0000\n",
            "Epoch 81/100\n",
            "14/14 [==============================] - 0s 5ms/step - loss: 0.0286 - accuracy: 1.0000\n",
            "Epoch 82/100\n",
            "14/14 [==============================] - 0s 5ms/step - loss: 0.0287 - accuracy: 1.0000\n",
            "Epoch 83/100\n",
            "14/14 [==============================] - 0s 6ms/step - loss: 0.0273 - accuracy: 1.0000\n",
            "Epoch 84/100\n",
            "14/14 [==============================] - 0s 5ms/step - loss: 0.0290 - accuracy: 0.9911\n",
            "Epoch 85/100\n",
            "14/14 [==============================] - 0s 5ms/step - loss: 0.0288 - accuracy: 0.9911\n",
            "Epoch 86/100\n",
            "14/14 [==============================] - 0s 5ms/step - loss: 0.0279 - accuracy: 1.0000\n",
            "Epoch 87/100\n",
            "14/14 [==============================] - 0s 5ms/step - loss: 0.0263 - accuracy: 1.0000\n",
            "Epoch 88/100\n",
            "14/14 [==============================] - 0s 5ms/step - loss: 0.0252 - accuracy: 1.0000\n",
            "Epoch 89/100\n",
            "14/14 [==============================] - 0s 6ms/step - loss: 0.0267 - accuracy: 1.0000\n",
            "Epoch 90/100\n",
            "14/14 [==============================] - 0s 4ms/step - loss: 0.0266 - accuracy: 1.0000\n",
            "Epoch 91/100\n",
            "14/14 [==============================] - 0s 3ms/step - loss: 0.0246 - accuracy: 1.0000\n",
            "Epoch 92/100\n",
            "14/14 [==============================] - 0s 3ms/step - loss: 0.0264 - accuracy: 0.9911\n",
            "Epoch 93/100\n",
            "14/14 [==============================] - 0s 4ms/step - loss: 0.0244 - accuracy: 0.9911\n",
            "Epoch 94/100\n",
            "14/14 [==============================] - 0s 3ms/step - loss: 0.0269 - accuracy: 0.9911\n",
            "Epoch 95/100\n",
            "14/14 [==============================] - 0s 3ms/step - loss: 0.0259 - accuracy: 1.0000\n",
            "Epoch 96/100\n",
            "14/14 [==============================] - 0s 3ms/step - loss: 0.0253 - accuracy: 0.9911\n",
            "Epoch 97/100\n",
            "14/14 [==============================] - 0s 4ms/step - loss: 0.0237 - accuracy: 1.0000\n",
            "Epoch 98/100\n",
            "14/14 [==============================] - 0s 4ms/step - loss: 0.0264 - accuracy: 0.9911\n",
            "Epoch 99/100\n",
            "14/14 [==============================] - 0s 4ms/step - loss: 0.0246 - accuracy: 0.9911\n",
            "Epoch 100/100\n",
            "14/14 [==============================] - 0s 3ms/step - loss: 0.0245 - accuracy: 0.9911\n"
          ]
        }
      ]
    },
    {
      "cell_type": "code",
      "source": [
        "import matplotlib.pyplot as plt\n",
        "\n",
        "hist_loss = history.history['loss']  # 訓練用データの誤差\n",
        "hist_acc = history.history['accuracy']  # 検証用データの誤差\n",
        "\n",
        "plt.plot(np.arange(len(hist_loss)), hist_loss, label='loss')\n",
        "plt.plot(np.arange(len(hist_acc)), hist_acc, label='accuracy')\n",
        "plt.legend()\n",
        "plt.show()"
      ],
      "metadata": {
        "colab": {
          "base_uri": "https://localhost:8080/",
          "height": 430
        },
        "id": "q_7FgW-l_Hc5",
        "outputId": "080a6c1f-dc2b-41a2-ffb6-4ec363eba09b"
      },
      "execution_count": 23,
      "outputs": [
        {
          "output_type": "display_data",
          "data": {
            "text/plain": [
              "<Figure size 640x480 with 1 Axes>"
            ],
            "image/png": "[encoded data removed]"
          },
          "metadata": {}
        }
      ]
    },
    {
      "cell_type": "code",
      "source": [
        "loss, accuracy = model.evaluate(X_test, y_test)\n",
        "print(loss, accuracy)"
      ],
      "metadata": {
        "colab": {
          "base_uri": "https://localhost:8080/"
        },
        "id": "t1PVVw2fAV4D",
        "outputId": "d173bb2d-8739-4077-e863-4e038f6bd073"
      },
      "execution_count": 24,
      "outputs": [
        {
          "output_type": "stream",
          "name": "stdout",
          "text": [
            "2/2 [==============================] - 0s 11ms/step - loss: 0.0927 - accuracy: 0.9737\n",
            "0.09268679469823837 0.9736841917037964\n"
          ]
        }
      ]
    },
    {
      "cell_type": "code",
      "source": [
        "model.predict(X_test)"
      ],
      "metadata": {
        "colab": {
          "base_uri": "https://localhost:8080/"
        },
        "id": "rXv-wbbvAcVi",
        "outputId": "624ea740-72e9-4ccc-9c00-ac8e91ecd81c"
      },
      "execution_count": 26,
      "outputs": [
        {
          "output_type": "stream",
          "name": "stdout",
          "text": [
            "2/2 [==============================] - 1s 10ms/step\n"
          ]
        },
        {
          "output_type": "execute_result",
          "data": {
            "text/plain": [
              "array([[9.99614358e-01, 3.80602694e-04, 4.94839969e-06],\n",
              "       [4.80565970e-04, 5.38593903e-02, 9.45660055e-01],\n",
              "       [1.90670753e-03, 9.97045457e-01, 1.04786386e-03],\n",
              "       [6.04615889e-06, 2.16035842e-04, 9.99777973e-01],\n",
              "       [9.99839187e-01, 1.57333066e-04, 3.40945098e-06],\n",
              "       [4.86803212e-04, 9.87697184e-01, 1.18160360e-02],\n",
              "       [4.67858490e-06, 1.27435909e-04, 9.99867916e-01],\n",
              "       [1.48245506e-03, 9.96229112e-01, 2.28837435e-03],\n",
              "       [5.67766081e-04, 9.93025541e-01, 6.40669279e-03],\n",
              "       [9.56066060e-07, 1.76164795e-05, 9.99981403e-01],\n",
              "       [1.87931837e-05, 1.30508363e-03, 9.98676121e-01],\n",
              "       [2.45463652e-05, 8.14641593e-04, 9.99160767e-01],\n",
              "       [8.35933955e-04, 9.98788416e-01, 3.75662610e-04],\n",
              "       [2.32683778e-05, 7.11934350e-04, 9.99264777e-01],\n",
              "       [4.00933386e-05, 1.18584151e-03, 9.98773992e-01],\n",
              "       [9.99240398e-01, 7.50169624e-04, 9.37246205e-06],\n",
              "       [6.53411786e-04, 5.82515419e-01, 4.16831106e-01],\n",
              "       [7.94349835e-05, 3.79630108e-03, 9.96124208e-01],\n",
              "       [9.99835730e-01, 1.61222779e-04, 2.99193721e-06],\n",
              "       [7.65930608e-08, 3.12001202e-06, 9.99996781e-01],\n",
              "       [1.14590250e-06, 2.21601895e-05, 9.99976635e-01],\n",
              "       [9.08157915e-07, 1.86340767e-05, 9.99980450e-01],\n",
              "       [9.99889612e-01, 1.09440945e-04, 1.00451064e-06],\n",
              "       [9.99922156e-01, 7.72784479e-05, 6.12302472e-07],\n",
              "       [1.24455290e-03, 9.96914506e-01, 1.84094335e-03],\n",
              "       [9.99976277e-01, 2.31155555e-05, 6.25170117e-07],\n",
              "       [7.02001080e-06, 1.69236810e-04, 9.99823749e-01],\n",
              "       [9.99760449e-01, 2.35898900e-04, 3.68282826e-06],\n",
              "       [9.99602735e-01, 3.91762791e-04, 5.43599162e-06],\n",
              "       [9.99891043e-01, 1.07201973e-04, 1.81930398e-06],\n",
              "       [1.67764722e-06, 3.79996563e-05, 9.99960303e-01],\n",
              "       [8.57962016e-03, 9.90833580e-01, 5.86788869e-04],\n",
              "       [1.73705746e-06, 7.84009681e-05, 9.99919891e-01],\n",
              "       [1.47144706e-03, 9.96195197e-01, 2.33325409e-03],\n",
              "       [9.99898911e-01, 9.90000408e-05, 2.02474394e-06],\n",
              "       [1.07183831e-03, 9.98030484e-01, 8.97676684e-04],\n",
              "       [5.19701243e-05, 2.28562276e-03, 9.97662425e-01],\n",
              "       [9.98685539e-01, 1.30137429e-03, 1.31406541e-05]], dtype=float32)"
            ]
          },
          "metadata": {},
          "execution_count": 26
        }
      ]
    },
    {
      "cell_type": "code",
      "source": [
        "from keras.models import load_model\n",
        "\n",
        "model.save('model.h5')\n",
        "load_model('model.h5')"
      ],
      "metadata": {
        "colab": {
          "base_uri": "https://localhost:8080/"
        },
        "id": "8_gAVn35Ae8z",
        "outputId": "453dffd8-64eb-41d5-f485-6a6391c8720a"
      },
      "execution_count": 27,
      "outputs": [
        {
          "output_type": "execute_result",
          "data": {
            "text/plain": [
              "<keras.engine.sequential.Sequential at 0x7fa2184cc8b0>"
            ]
          },
          "metadata": {},
          "execution_count": 27
        }
      ]
    },
    {
      "cell_type": "code",
      "source": [],
      "metadata": {
        "id": "Rkk3hLqUAmcZ"
      },
      "execution_count": null,
      "outputs": []
    }
  ]
}