{
  "nbformat": 4,
  "nbformat_minor": 0,
  "metadata": {
    "colab": {
      "provenance": [],
      "gpuType": "T4",
      "authorship_tag": "ABX9TyMp/1yYYeL9gn664cx1J2ZN",
      "include_colab_link": true
    },
    "kernelspec": {
      "name": "python3",
      "display_name": "Python 3"
    },
    "language_info": {
      "name": "python"
    },
    "accelerator": "GPU",
    "gpuClass": "standard"
  },
  "cells": [
    {
      "cell_type": "markdown",
      "metadata": {
        "id": "view-in-github",
        "colab_type": "text"
      },
      "source": [
        "<a href=\"https://colab.research.google.com/github/kodakar/DeepLearning_practice/blob/main/MNIST_practice.ipynb\" target=\"_parent\"><img src=\"https://colab.research.google.com/assets/colab-badge.svg\" alt=\"Open In Colab\"/></a>"
      ]
    },
    {
      "cell_type": "markdown",
      "source": [
        "# ライブラリのimport"
      ],
      "metadata": {
        "id": "JIOvG6wdVkNB"
      }
    },
    {
      "cell_type": "code",
      "execution_count": 98,
      "metadata": {
        "id": "UhJ2yRlfEYfS"
      },
      "outputs": [],
      "source": [
        "import tensorflow as tf\n",
        "from tensorflow import keras\n",
        "from keras.datasets import mnist\n",
        "from keras.utils import to_categorical\n",
        "\n",
        "from keras.models import Sequential\n",
        "from keras.layers import Dense, Dropout, Activation, Flatten, Conv2D, MaxPooling2D"
      ]
    },
    {
      "cell_type": "markdown",
      "source": [
        "# データセットのロード"
      ],
      "metadata": {
        "id": "ya1MYTyRN3cq"
      }
    },
    {
      "cell_type": "code",
      "source": [
        "(X_train, Y_train), (X_test,Y_test) = mnist.load_data()"
      ],
      "metadata": {
        "id": "b1e8LQAJFVCi"
      },
      "execution_count": 99,
      "outputs": []
    },
    {
      "cell_type": "code",
      "source": [
        "image_rows = 28\n",
        "image_cols = 28\n",
        "image_color = 1 #グレースケールのこと\n",
        "input_shape = (image_rows, image_cols, image_color)\n",
        "out_size = 10"
      ],
      "metadata": {
        "id": "tzJb4Wt6G02d"
      },
      "execution_count": 100,
      "outputs": []
    },
    {
      "cell_type": "markdown",
      "source": [
        "# データ整形"
      ],
      "metadata": {
        "id": "FykKHDIIN9zy"
      }
    },
    {
      "cell_type": "code",
      "source": [
        "X_train = X_train.reshape(-1, image_rows, image_cols, image_color) / 255\n",
        "X_test = X_test.reshape(-1, image_rows, image_cols, image_color) / 255\n",
        "\n",
        "Y_train = to_categorical(Y_train, out_size)\n",
        "Y_test = to_categorical(Y_test, out_size)"
      ],
      "metadata": {
        "id": "X6-D7X--N0It"
      },
      "execution_count": 101,
      "outputs": []
    },
    {
      "cell_type": "markdown",
      "source": [
        "# モデル構築"
      ],
      "metadata": {
        "id": "RIGMJz7CVWkF"
      }
    },
    {
      "cell_type": "code",
      "source": [
        "model = Sequential()\n",
        "model.add(Conv2D(32, (3, 3), input_shape=input_shape))\n",
        "model.add(Activation('relu'))\n",
        "model.add(Conv2D(32, (3, 3)))\n",
        "model.add(Activation('relu'))\n",
        "model.add(MaxPooling2D(pool_size=(2, 2)))\n",
        "model.add(Dropout(0.25))\n",
        "\n",
        "model.add(Conv2D(64, (3, 3)))\n",
        "model.add(Activation('relu'))\n",
        "model.add(Conv2D(64, (3, 3)))\n",
        "model.add(Activation('relu'))\n",
        "model.add(MaxPooling2D(pool_size=(2, 2)))\n",
        "model.add(Dropout(0.25))\n",
        "\n",
        "model.add(Flatten())\n",
        "model.add(Dense(512))\n",
        "model.add(Activation('relu'))\n",
        "model.add(Dropout(0.5))\n",
        "model.add(Dense(out_size))\n",
        "model.add(Activation('softmax'))"
      ],
      "metadata": {
        "id": "W82ktmA2UCRC"
      },
      "execution_count": 102,
      "outputs": []
    },
    {
      "cell_type": "markdown",
      "source": [
        "# コンパイルと学習"
      ],
      "metadata": {
        "id": "NNLc3Zw6ZVHy"
      }
    },
    {
      "cell_type": "code",
      "source": [
        "model.compile(\n",
        "    loss='categorical_crossentropy',\n",
        "    optimizer='adam',\n",
        "    metrics=['accuracy']\n",
        ")"
      ],
      "metadata": {
        "id": "BCW7w702Z3G5"
      },
      "execution_count": 103,
      "outputs": []
    },
    {
      "cell_type": "markdown",
      "source": [
        "# 学習"
      ],
      "metadata": {
        "id": "kIjy-J7qfWgO"
      }
    },
    {
      "cell_type": "code",
      "source": [
        "model.fit(\n",
        "  X_train, Y_train,\n",
        "  batch_size=128, epochs=20,verbose=1,\n",
        "  validation_data=(X_test, Y_test)\n",
        ")\n",
        "\n",
        "score = model.evaluate(X_test, Y_test, verbose=1)\n",
        "print('正解率...', score[1], 'loss=', score[0])"
      ],
      "metadata": {
        "colab": {
          "base_uri": "https://localhost:8080/"
        },
        "id": "iW__HS-AfYfp",
        "outputId": "669d16c1-74fc-4f18-8f67-314c8b462203"
      },
      "execution_count": 104,
      "outputs": [
        {
          "output_type": "stream",
          "name": "stdout",
          "text": [
            "Epoch 1/20\n",
            "469/469 [==============================] - 7s 10ms/step - loss: 0.2247 - accuracy: 0.9277 - val_loss: 0.0396 - val_accuracy: 0.9868\n",
            "Epoch 2/20\n",
            "469/469 [==============================] - 4s 9ms/step - loss: 0.0640 - accuracy: 0.9802 - val_loss: 0.0266 - val_accuracy: 0.9916\n",
            "Epoch 3/20\n",
            "469/469 [==============================] - 4s 9ms/step - loss: 0.0477 - accuracy: 0.9857 - val_loss: 0.0240 - val_accuracy: 0.9922\n",
            "Epoch 4/20\n",
            "469/469 [==============================] - 4s 9ms/step - loss: 0.0377 - accuracy: 0.9886 - val_loss: 0.0206 - val_accuracy: 0.9932\n",
            "Epoch 5/20\n",
            "469/469 [==============================] - 4s 10ms/step - loss: 0.0329 - accuracy: 0.9900 - val_loss: 0.0188 - val_accuracy: 0.9936\n",
            "Epoch 6/20\n",
            "469/469 [==============================] - 4s 9ms/step - loss: 0.0301 - accuracy: 0.9904 - val_loss: 0.0208 - val_accuracy: 0.9929\n",
            "Epoch 7/20\n",
            "469/469 [==============================] - 4s 9ms/step - loss: 0.0269 - accuracy: 0.9915 - val_loss: 0.0218 - val_accuracy: 0.9931\n",
            "Epoch 8/20\n",
            "469/469 [==============================] - 4s 9ms/step - loss: 0.0241 - accuracy: 0.9924 - val_loss: 0.0238 - val_accuracy: 0.9917\n",
            "Epoch 9/20\n",
            "469/469 [==============================] - 4s 9ms/step - loss: 0.0216 - accuracy: 0.9929 - val_loss: 0.0176 - val_accuracy: 0.9944\n",
            "Epoch 10/20\n",
            "469/469 [==============================] - 4s 9ms/step - loss: 0.0204 - accuracy: 0.9940 - val_loss: 0.0154 - val_accuracy: 0.9952\n",
            "Epoch 11/20\n",
            "469/469 [==============================] - 4s 10ms/step - loss: 0.0179 - accuracy: 0.9941 - val_loss: 0.0203 - val_accuracy: 0.9935\n",
            "Epoch 12/20\n",
            "469/469 [==============================] - 4s 9ms/step - loss: 0.0188 - accuracy: 0.9943 - val_loss: 0.0195 - val_accuracy: 0.9934\n",
            "Epoch 13/20\n",
            "469/469 [==============================] - 4s 9ms/step - loss: 0.0156 - accuracy: 0.9948 - val_loss: 0.0170 - val_accuracy: 0.9948\n",
            "Epoch 14/20\n",
            "469/469 [==============================] - 4s 10ms/step - loss: 0.0169 - accuracy: 0.9944 - val_loss: 0.0184 - val_accuracy: 0.9940\n",
            "Epoch 15/20\n",
            "469/469 [==============================] - 4s 9ms/step - loss: 0.0139 - accuracy: 0.9955 - val_loss: 0.0156 - val_accuracy: 0.9957\n",
            "Epoch 16/20\n",
            "469/469 [==============================] - 4s 9ms/step - loss: 0.0129 - accuracy: 0.9958 - val_loss: 0.0171 - val_accuracy: 0.9954\n",
            "Epoch 17/20\n",
            "469/469 [==============================] - 4s 10ms/step - loss: 0.0131 - accuracy: 0.9958 - val_loss: 0.0176 - val_accuracy: 0.9944\n",
            "Epoch 18/20\n",
            "469/469 [==============================] - 4s 9ms/step - loss: 0.0125 - accuracy: 0.9963 - val_loss: 0.0226 - val_accuracy: 0.9934\n",
            "Epoch 19/20\n",
            "469/469 [==============================] - 4s 9ms/step - loss: 0.0121 - accuracy: 0.9960 - val_loss: 0.0211 - val_accuracy: 0.9944\n",
            "Epoch 20/20\n",
            "469/469 [==============================] - 4s 9ms/step - loss: 0.0122 - accuracy: 0.9960 - val_loss: 0.0173 - val_accuracy: 0.9947\n",
            "313/313 [==============================] - 1s 3ms/step - loss: 0.0173 - accuracy: 0.9947\n",
            "正解率... 0.994700014591217 loss= 0.017268413677811623\n"
          ]
        }
      ]
    },
    {
      "cell_type": "markdown",
      "source": [
        "# 保存"
      ],
      "metadata": {
        "id": "SGXTQ-_efhiv"
      }
    },
    {
      "cell_type": "code",
      "source": [
        "#モデルを保存\n",
        "model.save('MNIST-model.h5')\n",
        "#重みデータを保存\n",
        "model.save_weights('MNIST-weights.h5')"
      ],
      "metadata": {
        "id": "l0jHlEljfaU1"
      },
      "execution_count": 105,
      "outputs": []
    },
    {
      "cell_type": "markdown",
      "source": [
        "# 自分の書いた文字でテスト"
      ],
      "metadata": {
        "id": "znytiqsHjKAE"
      }
    },
    {
      "cell_type": "code",
      "source": [
        "from google.colab import drive\n",
        "drive.mount('/content/drive')"
      ],
      "metadata": {
        "colab": {
          "base_uri": "https://localhost:8080/"
        },
        "id": "X15ZecBvi6hW",
        "outputId": "5d7ff770-c9f6-41b0-97a6-f6c4ce705614"
      },
      "execution_count": 113,
      "outputs": [
        {
          "output_type": "stream",
          "name": "stdout",
          "text": [
            "Drive already mounted at /content/drive; to attempt to forcibly remount, call drive.mount(\"/content/drive\", force_remount=True).\n"
          ]
        }
      ]
    },
    {
      "cell_type": "code",
      "source": [
        "!ls drive/\"My Drive\"/\"Colab Notebooks\""
      ],
      "metadata": {
        "colab": {
          "base_uri": "https://localhost:8080/"
        },
        "id": "1JWpPP4RjNCz",
        "outputId": "5fea6b13-94fd-4260-a32a-ab4d87c198cf"
      },
      "execution_count": 114,
      "outputs": [
        {
          "output_type": "stream",
          "name": "stdout",
          "text": [
            "4.png\t\t   MNIST_practice.ipynb  Untitled1.ipynb  Untitled4.ipynb\n",
            "cifar10_CNN.ipynb  mnist_pytorch.ipynb\t Untitled2.ipynb\n",
            "GDL_code-master    Untitled0.ipynb\t Untitled3.ipynb\n"
          ]
        }
      ]
    },
    {
      "cell_type": "code",
      "source": [
        "from keras.models import load_model\n",
        "from google.colab import files\n",
        "from PIL import Image\n",
        "\n",
        "import cv2\n",
        "import numpy as np\n",
        "from PIL import Image\n",
        "from google.colab import files\n",
        "\n",
        "#データの形を変数に\n",
        "image_rows = 28\n",
        "image_cols = 28\n",
        "image_color = 1 #グレースケールのこと\n",
        "input_shape = (image_rows, image_cols, image_color)\n",
        "\n",
        "img = Image.open('drive/My Drive/Colab Notebooks/4.png').convert('L')\n",
        "#画像を28x28に変換\n",
        "# img.thumbnail((image_rows, image_cols))\n",
        "img = img.resize((image_cols, image_rows))\n",
        "# print(img.size)\n",
        "\n",
        "#フロート型の行列に変換\n",
        "img = np.array(img, dtype=np.float32)\n",
        "# print(img.shape)\n",
        "img = img.reshape(-1, image_rows, image_cols, image_color)\n",
        "#黒0~255白の画像データをMNISTのデータと同じ白0~1黒に変える\n",
        "img = 1 - np.array(img / 255)\n",
        "\n",
        "\n",
        "model = load_model('MNIST-model.h5')\n",
        "model.load_weights('MNIST-weights.h5')\n",
        "\n",
        "# answer = model.predict_classes(np.array(img))\n",
        "answer = np.argmax(model.predict(np.array(img)), axis=-1)\n",
        "\n",
        "print(\"The computer guesses that this figure is \\\"\", answer[0], \"\\\"!\")"
      ],
      "metadata": {
        "colab": {
          "base_uri": "https://localhost:8080/"
        },
        "id": "oUQqnx2dj7Uf",
        "outputId": "0065acdc-4be7-4d8d-fd3d-2a064a705ff1"
      },
      "execution_count": 125,
      "outputs": [
        {
          "output_type": "stream",
          "name": "stdout",
          "text": [
            "1/1 [==============================] - 0s 225ms/step\n",
            "The computer guesses that this figure is \" 4 \"!\n"
          ]
        }
      ]
    },
    {
      "cell_type": "code",
      "source": [],
      "metadata": {
        "id": "zBhtr4XzmmIW"
      },
      "execution_count": null,
      "outputs": []
    }
  ]
}